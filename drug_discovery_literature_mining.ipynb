{
 "cells": [
  {
   "cell_type": "markdown",
   "metadata": {},
   "source": [
    "# Notebook Title: Scientific Literature Mining Agents for Drug Discovery Research"
   ]
  },
  {
   "cell_type": "markdown",
   "metadata": {},
   "source": [
    "## Introduction\n",
    "\n",
    "This notebook demonstrates various agents for fetching scientific literature relevant to drug discovery and research.\n",
    "It uses different APIs and libraries to access PubMed, Google Scholar, bioRxiv, Google Patents, and more.\n",
    "\n",
    "We will cover:\n",
    "1. Setting up the environment\n",
    "2. Creating agents for different scientific literature sources\n",
    "3. Using these agents to fetch relevant information\n",
    "4. A simple document processing example with a question-answering agent"
   ]
  },
  {
   "cell_type": "markdown",
   "metadata": {},
   "source": [
    "## 1. Setting up the Environment\n",
    "\n",
    "First, we need to install the necessary libraries."
   ]
  },
  {
   "cell_type": "code",
   "execution_count": null,
   "metadata": {},
   "outputs": [],
   "source": [
    "%pip install pymed apify-client requests beautifulsoup4 transformers docling"
   ]
  },
  {
   "cell_type": "markdown",
   "metadata": {},
   "source": [
    "## 2. Creating Agents for Scientific Literature Sources\n",
    "\n",
    "Import required libraries"
   ]
  },
  {
   "cell_type": "code",
   "execution_count": null,
   "metadata": {},
   "outputs": [],
   "source": [
    "from pymed import PubMed\n",
    "from apify_client import ApifyClient\n",
    "import requests\n",
    "from bs4 import BeautifulSoup\n",
    "from transformers import pipeline"
   ]
  },
  {
   "cell_type": "code",
   "execution_count": null,
   "metadata": {},
   "outputs": [],
   "source": [
    "# PubMed Agent\n",
    "def pubmed_agent(query, max_results=100):\n",
    "    pubmed = PubMed(tool=\"MyTool\", email=\"my@email.address\")\n",
    "    results = pubmed.query(query, max_results=max_results)\n",
    "    return [article.toDict() for article in results]"
   ]
  },
  {
   "cell_type": "code",
   "execution_count": null,
   "metadata": {},
   "outputs": [],
   "source": [
    "# Google Scholar Agent\n",
    "def google_scholar_agent(keyword, max_results=100):\n",
    "    client = ApifyClient(\"<YOUR_API_TOKEN>\")\n",
    "    run_input = {\n",
    "        \"keyword\": keyword,\n",
    "        \"proxyOptions\": {\"useApifyProxy\": True},\n",
    "        \"maxResults\": max_results\n",
    "    }\n",
    "    run = client.actor(\"marco.gullo/google-scholar-scraper\").call(run_input=run_input)\n",
    "    return list(client.dataset(run[\"defaultDatasetId\"]).iterate_items())"
   ]
  },
  {
   "cell_type": "code",
   "execution_count": null,
   "metadata": {},
   "outputs": [],
   "source": [
    "# bioRxiv Agent\n",
    "def biorxiv_agent(query, max_results=100):\n",
    "    url = f\"https://api.biorxiv.org/details/biorxiv/{query}/0/{max_results}\"\n",
    "    response = requests.get(url)\n",
    "    return response.json()[\"collection\"]"
   ]
  },
  {
   "cell_type": "code",
   "execution_count": null,
   "metadata": {},
   "outputs": [],
   "source": [
    "# Google Patents Agent\n",
    "def google_patents_agent(query, max_results=10):\n",
    "    url = f\"https://patents.google.com/?q={query}&num={max_results}\"\n",
    "    response = requests.get(url)\n",
    "    soup = BeautifulSoup(response.text, \"html.parser\")\n",
    "    patents = soup.find_all(\"article\", class_=\"result-item\")\n",
    "    return [{\"title\": p.find(\"h3\").text, \"link\": p.find(\"a\")[\"href\"]} for p in patents]"
   ]
  },
  {
   "cell_type": "markdown",
   "metadata": {},
   "source": [
    "## 3. Using the Agents to Fetch Information"
   ]
  },
  {
   "cell_type": "code",
   "execution_count": null,
   "metadata": {},
   "outputs": [],
   "source": [
    "# Example usage of each agent\n",
    "query = \"novel drug delivery systems\"\n",
    "\n",
    "print(\"Fetching results from PubMed...\")\n",
    "pubmed_results = pubmed_agent(query, max_results=5)\n",
    "print(f\"Found {len(pubmed_results)} results from PubMed\")\n",
    "\n",
    "print(\"\\nFetching results from Google Scholar...\")\n",
    "scholar_results = google_scholar_agent(query, max_results=5)\n",
    "print(f\"Found {len(scholar_results)} results from Google Scholar\")\n",
    "\n",
    "print(\"\\nFetching results from bioRxiv...\")\n",
    "biorxiv_results = biorxiv_agent(query, max_results=5)\n",
    "print(f\"Found {len(biorxiv_results)} results from bioRxiv\")\n",
    "\n",
    "print(\"\\nFetching results from Google Patents...\")\n",
    "patent_results = google_patents_agent(query, max_results=5)\n",
    "print(f\"Found {len(patent_results)} results from Google Patents\")"
   ]
  },
  {
   "cell_type": "markdown",
   "metadata": {},
   "source": [
    "## 4. Simple Document Processing and Question Answering\n",
    "\n",
    "For this example, we'll use a simulated document"
   ]
  },
  {
   "cell_type": "code",
   "execution_count": null,
   "metadata": {},
   "outputs": [],
   "source": [
    "document_text = \"\"\"\n",
    "# Simulated Research Paper on Novel Drug Delivery Systems\n",
    "\n",
    "## Abstract\n",
    "This paper reviews recent advancements in novel drug delivery systems, focusing on nanoparticle-based approaches and their potential in improving therapeutic efficacy and reducing side effects.\n",
    "\n",
    "## Introduction\n",
    "Drug delivery systems play a crucial role in enhancing the effectiveness of pharmaceuticals. Novel approaches, particularly those utilizing nanotechnology, have shown promising results in targeted drug delivery and controlled release.\n",
    "\n",
    "## Methods\n",
    "We conducted a comprehensive literature review of studies published in the last five years, focusing on nanoparticle-based drug delivery systems. Key databases searched included PubMed, Scopus, and Web of Science.\n",
    "\n",
    "## Results\n",
    "Our review identified several promising nanoparticle-based delivery systems, including liposomes, polymeric nanoparticles, and gold nanoparticles. These systems demonstrated improved drug solubility, enhanced cellular uptake, and reduced toxicity in various preclinical and clinical studies.\n",
    "\n",
    "## Conclusion\n",
    "Nanoparticle-based drug delivery systems show great potential in improving therapeutic outcomes across various disease areas. Further research is needed to address challenges in large-scale production and long-term safety.\n",
    "\"\"\""
   ]
  },
  {
   "cell_type": "code",
   "execution_count": null,
   "metadata": {},
   "outputs": [],
   "source": [
    "# Simulating document processing (in a real scenario, you'd use Docling for PDF parsing)\n",
    "sections = document_text.split(\"## \")\n",
    "sections = [s.strip() for s in sections if s.strip()]\n",
    "\n",
    "# Creating a simple question-answering agent\n",
    "question_answerer = pipeline(\"question-answering\")\n",
    "\n",
    "def qa_agent(document_sections, question_answerer):\n",
    "    def agent(question: str) -> str:\n",
    "        context = \"\\n\".join(document_sections)\n",
    "        result = question_answerer(question=question, context=context)\n",
    "        return result[\"answer\"]\n",
    "    return agent\n",
    "\n",
    "# Create the agent\n",
    "agent = qa_agent(sections, question_answerer)\n",
    "\n",
    "# Test the agent\n",
    "questions = [\n",
    "    \"What is the main focus of the paper?\",\n",
    "    \"What types of nanoparticle-based delivery systems were mentioned?\",\n",
    "    \"What are the potential benefits of these novel drug delivery systems?\"\n",
    "]\n",
    "\n",
    "for question in questions:\n",
    "    answer = agent(question)\n",
    "    print(f\"Question: {question}\")\n",
    "    print(f\"Answer: {answer}\\n\")"
   ]
  },
  {
   "cell_type": "markdown",
   "metadata": {},
   "source": [
    "## Conclusion\n",
    "\n",
    "This notebook demonstrated how to create and use agents for fetching scientific literature from various sources,\n",
    "as well as a simple document processing and question-answering system. These tools can be valuable for researchers\n",
    "in drug discovery and development.\n",
    "\n",
    "Next steps could include:\n",
    "- Refining the search queries for more specific drug discovery topics\n",
    "- Integrating the literature fetching agents with the document processing pipeline\n",
    "- Expanding the question-answering capabilities to handle more complex queries\n",
    "- Implementing a system to compare and synthesize information from multiple sources"
   ]
  }
 ],
 "metadata": {
  "kernelspec": {
   "display_name": "Python 3",
   "language": "python",
   "name": "python3"
  },
  "language_info": {
   "codemirror_mode": {
    "name": "ipython",
    "version": 3
   },
   "file_extension": ".py",
   "mimetype": "text/x-python",
   "name": "python",
   "nbconvert_exporter": "python",
   "pygments_lexer": "ipython3",
   "version": "3.8.5"
  }
 },
 "nbformat": 4,
 "nbformat_minor": 5
}
